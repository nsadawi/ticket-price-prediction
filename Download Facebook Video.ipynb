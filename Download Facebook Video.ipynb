{
 "cells": [
  {
   "cell_type": "markdown",
   "metadata": {},
   "source": [
    "## Download Facebook Video\n",
    "\n",
    "* This code downloads a publicly available facebook video\n",
    "* Just pass it the video link and where you'd like to save it on your machine\n",
    "\n",
    "Code adapted from: https://itrendbuzz.com/download-facebook-videos/"
   ]
  },
  {
   "cell_type": "markdown",
   "metadata": {},
   "source": [
    "#### Import required packages"
   ]
  },
  {
   "cell_type": "code",
   "execution_count": 8,
   "metadata": {},
   "outputs": [],
   "source": [
    "import sys\n",
    "import os\n",
    "import re\n",
    "import requests as r\n",
    "import wget"
   ]
  },
  {
   "cell_type": "code",
   "execution_count": 9,
   "metadata": {},
   "outputs": [],
   "source": [
    "#Install a package from within Jupyter\n",
    "#!pip install wget"
   ]
  },
  {
   "cell_type": "code",
   "execution_count": 10,
   "metadata": {},
   "outputs": [],
   "source": [
    "# this is the function that does the download\n",
    "# pass it the FB video URL and a path to the destination folder\n",
    "def download_fbvid(link, dest_folder):\n",
    "    try:\n",
    "        html = r.get(link)\n",
    "        hdvideo_url = re.search('hd_src:\"(.+?)\"', html.text)[1]\n",
    "    except r.ConnectionError as e:\n",
    "        print(\"OOPS!! Connection Error.\")\n",
    "        return False\n",
    "    except r.Timeout as e:\n",
    "        print(\"OOPS!! Timeout Error\")\n",
    "        return False\n",
    "    except r.RequestException as e:\n",
    "        print(\"OOPS!! General Error or Invalid URL\")\n",
    "        return False\n",
    "    except (KeyboardInterrupt, SystemExit):\n",
    "        print(\"Ok ok, quitting\")\n",
    "        sys.exit(1)\n",
    "    except TypeError:\n",
    "        print(\"Video May Private or Hd version not avilable\")\n",
    "        return False\n",
    "    else:\n",
    "        hd_url = hdvideo_url.replace('hd_src:\"', '')\n",
    "        wget.download(hd_url, dest_folder)\n",
    "        print(\"Downloaded successful!\")\n",
    "        return True"
   ]
  },
  {
   "cell_type": "markdown",
   "metadata": {},
   "source": [
    "### Example Usage:"
   ]
  },
  {
   "cell_type": "code",
   "execution_count": 11,
   "metadata": {},
   "outputs": [
    {
     "name": "stdout",
     "output_type": "stream",
     "text": [
      "Downloaded successful!\n"
     ]
    },
    {
     "data": {
      "text/plain": [
       "True"
      ]
     },
     "execution_count": 11,
     "metadata": {},
     "output_type": "execute_result"
    }
   ],
   "source": [
    "link = 'https://www.facebook.com/noureddin.sadawi/posts/10223074445948231'\n",
    "dest_folder = '/Users/csstnns/Desktop/'\n",
    "download_fbvid(link, dest_folder)"
   ]
  },
  {
   "cell_type": "code",
   "execution_count": null,
   "metadata": {},
   "outputs": [],
   "source": []
  }
 ],
 "metadata": {
  "kernelspec": {
   "display_name": "Python 3",
   "language": "python",
   "name": "python3"
  },
  "language_info": {
   "codemirror_mode": {
    "name": "ipython",
    "version": 3
   },
   "file_extension": ".py",
   "mimetype": "text/x-python",
   "name": "python",
   "nbconvert_exporter": "python",
   "pygments_lexer": "ipython3",
   "version": "3.7.6"
  }
 },
 "nbformat": 4,
 "nbformat_minor": 4
}
