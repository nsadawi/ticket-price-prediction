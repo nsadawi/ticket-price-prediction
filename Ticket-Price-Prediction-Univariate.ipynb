{
 "cells": [
  {
   "cell_type": "markdown",
   "metadata": {},
   "source": [
    "# Time-Series Prediction"
   ]
  },
  {
   "cell_type": "markdown",
   "metadata": {},
   "source": [
    "## Imports\n",
    "\n",
    "Import required libraries"
   ]
  },
  {
   "cell_type": "code",
   "execution_count": 1,
   "metadata": {},
   "outputs": [
    {
     "name": "stderr",
     "output_type": "stream",
     "text": [
      "Using TensorFlow backend.\n"
     ]
    }
   ],
   "source": [
    "import numpy as np\n",
    "import pandas as pd\n",
    "pd.set_option('display.max_columns', 500)\n",
    "\n",
    "# Import the plotting library\n",
    "import matplotlib.pyplot as plt\n",
    "%matplotlib inline\n",
    "\n",
    "from keras.models import Sequential\n",
    "from keras.layers import Dense\n",
    "from keras.models import load_model\n",
    "\n",
    "\n",
    "from keras.callbacks import EarlyStopping\n",
    "from keras.callbacks import ModelCheckpoint\n",
    "\n",
    "from keras.layers import LSTM\n",
    "\n",
    "from sklearn.preprocessing import MinMaxScaler"
   ]
  },
  {
   "cell_type": "markdown",
   "metadata": {},
   "source": [
    "#### Load the data"
   ]
  },
  {
   "cell_type": "code",
   "execution_count": 2,
   "metadata": {},
   "outputs": [
    {
     "data": {
      "text/plain": [
       "['Dataset', 'LONAMS', 'Pivot']"
      ]
     },
     "execution_count": 2,
     "metadata": {},
     "output_type": "execute_result"
    }
   ],
   "source": [
    "#open the Excel file\n",
    "xl = pd.ExcelFile(\"/Users/csstnns/Downloads/Dataset.xlsx\")\n",
    "#list sheet names\n",
    "xl.sheet_names"
   ]
  },
  {
   "cell_type": "code",
   "execution_count": 3,
   "metadata": {},
   "outputs": [
    {
     "data": {
      "text/html": [
       "<div>\n",
       "<style scoped>\n",
       "    .dataframe tbody tr th:only-of-type {\n",
       "        vertical-align: middle;\n",
       "    }\n",
       "\n",
       "    .dataframe tbody tr th {\n",
       "        vertical-align: top;\n",
       "    }\n",
       "\n",
       "    .dataframe thead th {\n",
       "        text-align: right;\n",
       "    }\n",
       "</style>\n",
       "<table border=\"1\" class=\"dataframe\">\n",
       "  <thead>\n",
       "    <tr style=\"text-align: right;\">\n",
       "      <th></th>\n",
       "      <th>itinerary</th>\n",
       "      <th>itinerary_from</th>\n",
       "      <th>hub</th>\n",
       "      <th>itinerary_to</th>\n",
       "      <th>equipment_1</th>\n",
       "      <th>equipment_2</th>\n",
       "      <th>itinerary_cityFrom</th>\n",
       "      <th>itinerary_cityTo</th>\n",
       "      <th>itinerary_dTimeDate</th>\n",
       "      <th>itinerary_dTimeHour</th>\n",
       "      <th>Morning_flights</th>\n",
       "      <th>Afternoon_flights</th>\n",
       "      <th>Evening_flights</th>\n",
       "      <th>Early_morning_flights</th>\n",
       "      <th>Late_evening_flights</th>\n",
       "      <th>Day_of_the_week</th>\n",
       "      <th>itinerary_aTimeUTC</th>\n",
       "      <th>itinerary_aTimeDate</th>\n",
       "      <th>itinerary_aTimeHour</th>\n",
       "      <th>connecting_time</th>\n",
       "      <th>tot_time (s)</th>\n",
       "      <th>Flights_per_airlines</th>\n",
       "      <th>airline_1</th>\n",
       "      <th>airline_2</th>\n",
       "      <th>Tot_flights</th>\n",
       "      <th>Competition2</th>\n",
       "      <th>flight_no_1</th>\n",
       "      <th>flight_no_2</th>\n",
       "      <th>price</th>\n",
       "      <th>dbd</th>\n",
       "      <th>itinerary_dTimeUTC</th>\n",
       "    </tr>\n",
       "  </thead>\n",
       "  <tbody>\n",
       "    <tr>\n",
       "      <th>0</th>\n",
       "      <td>0</td>\n",
       "      <td>AMS</td>\n",
       "      <td>NaN</td>\n",
       "      <td>SEN</td>\n",
       "      <td>NaN</td>\n",
       "      <td>NaN</td>\n",
       "      <td>Amsterdam</td>\n",
       "      <td>London</td>\n",
       "      <td>2019-10-12</td>\n",
       "      <td>10:30:00</td>\n",
       "      <td>Yes</td>\n",
       "      <td>No</td>\n",
       "      <td>No</td>\n",
       "      <td>No</td>\n",
       "      <td>No</td>\n",
       "      <td>Saturday</td>\n",
       "      <td>2019-10-12 11:30:00</td>\n",
       "      <td>2019-10-12</td>\n",
       "      <td>11:30:00</td>\n",
       "      <td>NaN</td>\n",
       "      <td>3600</td>\n",
       "      <td>24</td>\n",
       "      <td>U2</td>\n",
       "      <td>NaN</td>\n",
       "      <td>70</td>\n",
       "      <td>0.342857</td>\n",
       "      <td>7402</td>\n",
       "      <td>NaN</td>\n",
       "      <td>105</td>\n",
       "      <td>1</td>\n",
       "      <td>2019-10-12 10:30:00</td>\n",
       "    </tr>\n",
       "    <tr>\n",
       "      <th>1</th>\n",
       "      <td>1</td>\n",
       "      <td>AMS</td>\n",
       "      <td>NaN</td>\n",
       "      <td>STN</td>\n",
       "      <td>NaN</td>\n",
       "      <td>NaN</td>\n",
       "      <td>Amsterdam</td>\n",
       "      <td>London</td>\n",
       "      <td>2019-10-12</td>\n",
       "      <td>09:50:00</td>\n",
       "      <td>Yes</td>\n",
       "      <td>No</td>\n",
       "      <td>No</td>\n",
       "      <td>No</td>\n",
       "      <td>No</td>\n",
       "      <td>Saturday</td>\n",
       "      <td>2019-10-12 10:55:00</td>\n",
       "      <td>2019-10-12</td>\n",
       "      <td>10:55:00</td>\n",
       "      <td>NaN</td>\n",
       "      <td>3900</td>\n",
       "      <td>24</td>\n",
       "      <td>U2</td>\n",
       "      <td>NaN</td>\n",
       "      <td>70</td>\n",
       "      <td>0.342857</td>\n",
       "      <td>3002</td>\n",
       "      <td>NaN</td>\n",
       "      <td>134</td>\n",
       "      <td>1</td>\n",
       "      <td>2019-10-12 09:50:00</td>\n",
       "    </tr>\n",
       "    <tr>\n",
       "      <th>2</th>\n",
       "      <td>2</td>\n",
       "      <td>AMS</td>\n",
       "      <td>NaN</td>\n",
       "      <td>STN</td>\n",
       "      <td>NaN</td>\n",
       "      <td>NaN</td>\n",
       "      <td>Amsterdam</td>\n",
       "      <td>London</td>\n",
       "      <td>2019-10-12</td>\n",
       "      <td>17:40:00</td>\n",
       "      <td>No</td>\n",
       "      <td>Yes</td>\n",
       "      <td>No</td>\n",
       "      <td>No</td>\n",
       "      <td>No</td>\n",
       "      <td>Saturday</td>\n",
       "      <td>2019-10-12 18:45:00</td>\n",
       "      <td>2019-10-12</td>\n",
       "      <td>18:45:00</td>\n",
       "      <td>NaN</td>\n",
       "      <td>3900</td>\n",
       "      <td>24</td>\n",
       "      <td>U2</td>\n",
       "      <td>NaN</td>\n",
       "      <td>70</td>\n",
       "      <td>0.342857</td>\n",
       "      <td>3006</td>\n",
       "      <td>NaN</td>\n",
       "      <td>134</td>\n",
       "      <td>1</td>\n",
       "      <td>2019-10-12 17:40:00</td>\n",
       "    </tr>\n",
       "    <tr>\n",
       "      <th>3</th>\n",
       "      <td>3</td>\n",
       "      <td>AMS</td>\n",
       "      <td>NaN</td>\n",
       "      <td>STN</td>\n",
       "      <td>NaN</td>\n",
       "      <td>NaN</td>\n",
       "      <td>Amsterdam</td>\n",
       "      <td>London</td>\n",
       "      <td>2019-10-12</td>\n",
       "      <td>20:10:00</td>\n",
       "      <td>No</td>\n",
       "      <td>No</td>\n",
       "      <td>Yes</td>\n",
       "      <td>No</td>\n",
       "      <td>No</td>\n",
       "      <td>Saturday</td>\n",
       "      <td>2019-10-12 21:15:00</td>\n",
       "      <td>2019-10-12</td>\n",
       "      <td>21:15:00</td>\n",
       "      <td>NaN</td>\n",
       "      <td>3900</td>\n",
       "      <td>24</td>\n",
       "      <td>U2</td>\n",
       "      <td>NaN</td>\n",
       "      <td>70</td>\n",
       "      <td>0.342857</td>\n",
       "      <td>3004</td>\n",
       "      <td>NaN</td>\n",
       "      <td>134</td>\n",
       "      <td>1</td>\n",
       "      <td>2019-10-12 20:10:00</td>\n",
       "    </tr>\n",
       "    <tr>\n",
       "      <th>4</th>\n",
       "      <td>4</td>\n",
       "      <td>AMS</td>\n",
       "      <td>NaN</td>\n",
       "      <td>LTN</td>\n",
       "      <td>321</td>\n",
       "      <td>NaN</td>\n",
       "      <td>Amsterdam</td>\n",
       "      <td>London</td>\n",
       "      <td>2019-10-12</td>\n",
       "      <td>07:00:00</td>\n",
       "      <td>Yes</td>\n",
       "      <td>No</td>\n",
       "      <td>No</td>\n",
       "      <td>Yes</td>\n",
       "      <td>No</td>\n",
       "      <td>Saturday</td>\n",
       "      <td>2019-10-12 08:10:00</td>\n",
       "      <td>2019-10-12</td>\n",
       "      <td>08:10:00</td>\n",
       "      <td>NaN</td>\n",
       "      <td>4200</td>\n",
       "      <td>6</td>\n",
       "      <td>VK</td>\n",
       "      <td>NaN</td>\n",
       "      <td>70</td>\n",
       "      <td>0.085714</td>\n",
       "      <td>8404</td>\n",
       "      <td>NaN</td>\n",
       "      <td>61</td>\n",
       "      <td>1</td>\n",
       "      <td>2019-10-12 07:00:00</td>\n",
       "    </tr>\n",
       "  </tbody>\n",
       "</table>\n",
       "</div>"
      ],
      "text/plain": [
       "   itinerary itinerary_from  hub itinerary_to equipment_1 equipment_2  \\\n",
       "0          0            AMS  NaN          SEN         NaN         NaN   \n",
       "1          1            AMS  NaN          STN         NaN         NaN   \n",
       "2          2            AMS  NaN          STN         NaN         NaN   \n",
       "3          3            AMS  NaN          STN         NaN         NaN   \n",
       "4          4            AMS  NaN          LTN         321         NaN   \n",
       "\n",
       "  itinerary_cityFrom itinerary_cityTo itinerary_dTimeDate itinerary_dTimeHour  \\\n",
       "0          Amsterdam           London          2019-10-12            10:30:00   \n",
       "1          Amsterdam           London          2019-10-12            09:50:00   \n",
       "2          Amsterdam           London          2019-10-12            17:40:00   \n",
       "3          Amsterdam           London          2019-10-12            20:10:00   \n",
       "4          Amsterdam           London          2019-10-12            07:00:00   \n",
       "\n",
       "  Morning_flights Afternoon_flights Evening_flights Early_morning_flights  \\\n",
       "0             Yes                No              No                    No   \n",
       "1             Yes                No              No                    No   \n",
       "2              No               Yes              No                    No   \n",
       "3              No                No             Yes                    No   \n",
       "4             Yes                No              No                   Yes   \n",
       "\n",
       "  Late_evening_flights Day_of_the_week  itinerary_aTimeUTC  \\\n",
       "0                   No        Saturday 2019-10-12 11:30:00   \n",
       "1                   No        Saturday 2019-10-12 10:55:00   \n",
       "2                   No        Saturday 2019-10-12 18:45:00   \n",
       "3                   No        Saturday 2019-10-12 21:15:00   \n",
       "4                   No        Saturday 2019-10-12 08:10:00   \n",
       "\n",
       "  itinerary_aTimeDate itinerary_aTimeHour  connecting_time  tot_time (s)  \\\n",
       "0          2019-10-12            11:30:00              NaN          3600   \n",
       "1          2019-10-12            10:55:00              NaN          3900   \n",
       "2          2019-10-12            18:45:00              NaN          3900   \n",
       "3          2019-10-12            21:15:00              NaN          3900   \n",
       "4          2019-10-12            08:10:00              NaN          4200   \n",
       "\n",
       "   Flights_per_airlines airline_1 airline_2  Tot_flights  Competition2  \\\n",
       "0                    24        U2       NaN           70      0.342857   \n",
       "1                    24        U2       NaN           70      0.342857   \n",
       "2                    24        U2       NaN           70      0.342857   \n",
       "3                    24        U2       NaN           70      0.342857   \n",
       "4                     6        VK       NaN           70      0.085714   \n",
       "\n",
       "   flight_no_1  flight_no_2  price  dbd  itinerary_dTimeUTC  \n",
       "0         7402          NaN    105    1 2019-10-12 10:30:00  \n",
       "1         3002          NaN    134    1 2019-10-12 09:50:00  \n",
       "2         3006          NaN    134    1 2019-10-12 17:40:00  \n",
       "3         3004          NaN    134    1 2019-10-12 20:10:00  \n",
       "4         8404          NaN     61    1 2019-10-12 07:00:00  "
      ]
     },
     "execution_count": 3,
     "metadata": {},
     "output_type": "execute_result"
    }
   ],
   "source": [
    "#get the Dataset sheet\n",
    "df = xl.parse(\"Dataset\")\n",
    "#view the first few rows of the data\n",
    "df.head()"
   ]
  },
  {
   "cell_type": "markdown",
   "metadata": {},
   "source": [
    "#### Get the Amsterdam to London data\n",
    "Filter the data and keep only the Amsterdam -> London flight data"
   ]
  },
  {
   "cell_type": "code",
   "execution_count": 4,
   "metadata": {},
   "outputs": [],
   "source": [
    "data = df[(df['itinerary_cityFrom'] == 'Amsterdam') & (df['itinerary_cityTo'] == 'London')].copy()\n",
    "data.reset_index(drop=True, inplace=True)"
   ]
  },
  {
   "cell_type": "markdown",
   "metadata": {},
   "source": [
    "#### Check data for missing values"
   ]
  },
  {
   "cell_type": "code",
   "execution_count": 5,
   "metadata": {},
   "outputs": [
    {
     "data": {
      "text/plain": [
       "itinerary                   0\n",
       "itinerary_from              0\n",
       "hub                      6534\n",
       "itinerary_to                0\n",
       "equipment_1              3106\n",
       "equipment_2              7553\n",
       "itinerary_cityFrom          0\n",
       "itinerary_cityTo            0\n",
       "itinerary_dTimeDate         0\n",
       "itinerary_dTimeHour         0\n",
       "Morning_flights             0\n",
       "Afternoon_flights           0\n",
       "Evening_flights             0\n",
       "Early_morning_flights       0\n",
       "Late_evening_flights        0\n",
       "Day_of_the_week             0\n",
       "itinerary_aTimeUTC          0\n",
       "itinerary_aTimeDate         0\n",
       "itinerary_aTimeHour         0\n",
       "connecting_time          6534\n",
       "tot_time (s)                0\n",
       "Flights_per_airlines        0\n",
       "airline_1                   0\n",
       "airline_2                6534\n",
       "Tot_flights                 0\n",
       "Competition2                0\n",
       "flight_no_1                 0\n",
       "flight_no_2              6534\n",
       "price                       0\n",
       "dbd                         0\n",
       "itinerary_dTimeUTC          0\n",
       "dtype: int64"
      ]
     },
     "execution_count": 5,
     "metadata": {},
     "output_type": "execute_result"
    }
   ],
   "source": [
    "data.isna().sum()"
   ]
  },
  {
   "cell_type": "markdown",
   "metadata": {},
   "source": [
    "#### Make the itinerary_dTimeUTC field as index .. and get the Price column too .. keep these two columns only"
   ]
  },
  {
   "cell_type": "code",
   "execution_count": 6,
   "metadata": {},
   "outputs": [],
   "source": [
    "data = data[['price','itinerary_dTimeUTC']]\n",
    "\n",
    "# sort by date\n",
    "data.sort_values(by='itinerary_dTimeUTC', inplace=True)\n",
    "\n",
    "# make the date column as index\n",
    "data.set_index('itinerary_dTimeUTC', inplace=True)"
   ]
  },
  {
   "cell_type": "code",
   "execution_count": 7,
   "metadata": {},
   "outputs": [
    {
     "data": {
      "text/plain": [
       "(8278, 1)"
      ]
     },
     "execution_count": 7,
     "metadata": {},
     "output_type": "execute_result"
    }
   ],
   "source": [
    "#check how many rows and columns (should be one column only)\n",
    "data.shape"
   ]
  },
  {
   "cell_type": "code",
   "execution_count": 8,
   "metadata": {},
   "outputs": [
    {
     "data": {
      "text/plain": [
       "<matplotlib.axes._subplots.AxesSubplot at 0x1a3f967850>"
      ]
     },
     "execution_count": 8,
     "metadata": {},
     "output_type": "execute_result"
    },
    {
     "data": {
      "image/png": "[encoded data removed]",
      "text/plain": [
       "<Figure size 864x432 with 1 Axes>"
      ]
     },
     "metadata": {
      "needs_background": "light"
     },
     "output_type": "display_data"
    }
   ],
   "source": [
    "# Plot price over time\n",
    "# Notice the fluctuations .. no clear pattern or trend in the data\n",
    "data['price'].plot(figsize=(12, 6))"
   ]
  },
  {
   "cell_type": "markdown",
   "metadata": {},
   "source": [
    "#### Split the Data into Train/test subsets"
   ]
  },
  {
   "cell_type": "code",
   "execution_count": 9,
   "metadata": {},
   "outputs": [
    {
     "name": "stdout",
     "output_type": "stream",
     "text": [
      "train shape: (8000, 1)\n",
      "test shape:  (278, 1)\n"
     ]
    }
   ],
   "source": [
    "# let's use the first 8000 values for training and the rest for testing\n",
    "# remember the data is ordered by time\n",
    "train_size = 8000\n",
    "train_df = data[:train_size]\n",
    "print('train shape:', train_df.shape)\n",
    "test_df = data[train_size:]\n",
    "print('test shape: ',test_df.shape)"
   ]
  },
  {
   "cell_type": "markdown",
   "metadata": {},
   "source": [
    "### Normalise the Data into values between 0 and 1"
   ]
  },
  {
   "cell_type": "code",
   "execution_count": 10,
   "metadata": {},
   "outputs": [],
   "source": [
    "# After this step train and test will become numpy matrices instead of pandas dataframes\n",
    "# NOTICE: we use the model that is fitted to the train data to scale the test data .. very important to do it this way!\n",
    "x_scaler = MinMaxScaler()\n",
    "train = x_scaler.fit_transform(train_df.values.reshape(-1, 1))\n",
    "test = x_scaler.transform(test_df.values.reshape(-1, 1))"
   ]
  },
  {
   "cell_type": "code",
   "execution_count": 11,
   "metadata": {},
   "outputs": [
    {
     "name": "stdout",
     "output_type": "stream",
     "text": [
      "Min x: 0.0\n",
      "Max x: 1.0\n"
     ]
    }
   ],
   "source": [
    "# make sure values are between 0-1\n",
    "print(\"Min x:\", np.min(train))\n",
    "print(\"Max x:\", np.max(train))"
   ]
  },
  {
   "cell_type": "markdown",
   "metadata": {},
   "source": [
    "#### To Split Data into Sequences\n"
   ]
  },
  {
   "cell_type": "code",
   "execution_count": 12,
   "metadata": {},
   "outputs": [],
   "source": [
    "# split a univariate sequence into samples\n",
    "def split_sequence(sequence, n_steps):\n",
    "    X, y = [], []\n",
    "    for i in range(len(sequence)):\n",
    "        # find the end of this pattern\n",
    "        end_ix = i + n_steps\n",
    "        # check if we are beyond the sequence\n",
    "        if end_ix > len(sequence)-1:\n",
    "            break\n",
    "        # gather input and output parts of the pattern\n",
    "        seq_x, seq_y = sequence[i:end_ix], sequence[end_ix]\n",
    "        X.append(seq_x)\n",
    "        y.append(seq_y)\n",
    "    return np.array(X), np.array(y)"
   ]
  },
  {
   "cell_type": "markdown",
   "metadata": {},
   "source": [
    "#### Create sequences for training data"
   ]
  },
  {
   "cell_type": "code",
   "execution_count": 13,
   "metadata": {},
   "outputs": [],
   "source": [
    "# choose a number of time steps\n",
    "n_steps = 65\n",
    "# split into samples\n",
    "X_train, y_train = split_sequence(train, n_steps)"
   ]
  },
  {
   "cell_type": "markdown",
   "metadata": {},
   "source": [
    "#### Create sequences for test data"
   ]
  },
  {
   "cell_type": "code",
   "execution_count": 14,
   "metadata": {},
   "outputs": [],
   "source": [
    "# split into samples\n",
    "X_test, y_test = split_sequence(test, n_steps)"
   ]
  },
  {
   "cell_type": "markdown",
   "metadata": {},
   "source": [
    "#### Data Shape suitable for feeding into TF/Keras"
   ]
  },
  {
   "cell_type": "code",
   "execution_count": 15,
   "metadata": {},
   "outputs": [
    {
     "name": "stdout",
     "output_type": "stream",
     "text": [
      "(7935, 65, 1)\n",
      "(213, 65, 1)\n"
     ]
    }
   ],
   "source": [
    "print(X_train.shape)\n",
    "print(X_test.shape)"
   ]
  },
  {
   "cell_type": "markdown",
   "metadata": {},
   "source": [
    "## Model Building and Fitting (RNN, LSTM and GRU)"
   ]
  },
  {
   "cell_type": "code",
   "execution_count": null,
   "metadata": {
    "scrolled": true
   },
   "outputs": [
    {
     "name": "stdout",
     "output_type": "stream",
     "text": [
      "Train on 7141 samples, validate on 794 samples\n",
      "Epoch 1/10\n",
      "6400/7141 [=========================>....] - ETA: 11s - loss: 0.0044"
     ]
    }
   ],
   "source": [
    "%%time\n",
    "n_features = 1\n",
    "\n",
    "# define model\n",
    "model = Sequential()\n",
    "#add one LSTM layer\n",
    "model.add(LSTM(500))\n",
    "#add one dense layer to predict the final outcome (i.e. the price)\n",
    "model.add(Dense(1))\n",
    "#prepare model (optimizer, loss etc)\n",
    "model.compile(optimizer='adam', loss='mse')\n",
    "# simple early stopping and model checkpoint\n",
    "# stop training if the model does not improve for 5 consecutive epochs (patience=5)\n",
    "es = EarlyStopping(monitor='val_loss', mode='min', verbose=1, patience=5)\n",
    "# we save the model with the lowest value for 'validation loss'\n",
    "mc = ModelCheckpoint('best_model.h5', monitor='val_loss', mode='min', verbose=1, save_best_only=True)\n",
    "# fit the model and keep track of loss for validation and training\n",
    "history = model.fit(X_train, y_train, validation_split=0.1, epochs=10, batch_size=64, verbose=1)"
   ]
  },
  {
   "cell_type": "markdown",
   "metadata": {},
   "source": [
    "### Summarize history for loss"
   ]
  },
  {
   "cell_type": "code",
   "execution_count": null,
   "metadata": {},
   "outputs": [],
   "source": [
    "# summarize history for loss\n",
    "plt.plot(history.history['loss'])\n",
    "plt.plot(history.history['val_loss'])\n",
    "plt.title('model loss')\n",
    "plt.ylabel('loss')\n",
    "plt.xlabel('epoch')\n",
    "plt.legend(['train', 'test'], loc='upper left')\n",
    "plt.show()"
   ]
  },
  {
   "cell_type": "markdown",
   "metadata": {},
   "source": [
    "### Load the saved best model"
   ]
  },
  {
   "cell_type": "code",
   "execution_count": null,
   "metadata": {},
   "outputs": [],
   "source": [
    "# load the saved model\n",
    "model = load_model('best_model.h5')"
   ]
  },
  {
   "cell_type": "code",
   "execution_count": null,
   "metadata": {},
   "outputs": [],
   "source": [
    "#X_test[0].shape\n",
    "#model.evaluate(X_test, y_test)"
   ]
  },
  {
   "cell_type": "markdown",
   "metadata": {},
   "source": [
    "#### Compute RMSE for Evaluation"
   ]
  },
  {
   "cell_type": "code",
   "execution_count": null,
   "metadata": {},
   "outputs": [],
   "source": [
    "def rmse(y_true, y_pred):\n",
    "        return np.sqrt(np.mean(np.square(y_pred - y_true))) "
   ]
  },
  {
   "cell_type": "markdown",
   "metadata": {},
   "source": [
    "#### Predict the test set"
   ]
  },
  {
   "cell_type": "code",
   "execution_count": null,
   "metadata": {},
   "outputs": [],
   "source": [
    "preds = np.zeros(len(y_test))\n",
    "\n",
    "# demonstrate predictions\n",
    "for i in range(X_test.shape[0]):\n",
    "    x_input = X_test[i]\n",
    "    x_input = x_input.reshape((1, n_steps, n_features))\n",
    "    yhat = model.predict(x_input, verbose=0)\n",
    "    preds[i] = (yhat[0])"
   ]
  },
  {
   "cell_type": "code",
   "execution_count": null,
   "metadata": {},
   "outputs": [],
   "source": []
  },
  {
   "cell_type": "markdown",
   "metadata": {},
   "source": [
    "### After getting the predictions we need to transform the predicted and actual Y values into their original range\n",
    "### Remember we applied scaling previously"
   ]
  },
  {
   "cell_type": "code",
   "execution_count": null,
   "metadata": {},
   "outputs": [],
   "source": [
    "# The output of the model is between 0 and 1.\n",
    "# Do an inverse map to get it back to the scale of the original dataset\n",
    "preds_ = x_scaler.inverse_transform((preds.reshape(-1,1)))\n",
    "# we also rescale the y_test values into their original range (inverse scaling)\n",
    "actuals = x_scaler.inverse_transform(y_test)"
   ]
  },
  {
   "cell_type": "markdown",
   "metadata": {},
   "source": [
    "### Compute RMSE on the test set"
   ]
  },
  {
   "cell_type": "code",
   "execution_count": null,
   "metadata": {},
   "outputs": [],
   "source": [
    "rmse(actuals, preds_)"
   ]
  },
  {
   "cell_type": "markdown",
   "metadata": {},
   "source": [
    "#### Plot True vs Predicted"
   ]
  },
  {
   "cell_type": "code",
   "execution_count": null,
   "metadata": {},
   "outputs": [],
   "source": [
    "# multiple line plot\n",
    "plt.plot(actuals, marker='o', label='True')\n",
    "plt.plot(preds, marker='*', label='Predicted')\n",
    "\n",
    "plt.legend()"
   ]
  }
 ],
 "metadata": {
  "anaconda-cloud": {},
  "kernelspec": {
   "display_name": "Python 3",
   "language": "python",
   "name": "python3"
  },
  "language_info": {
   "codemirror_mode": {
    "name": "ipython",
    "version": 3
   },
   "file_extension": ".py",
   "mimetype": "text/x-python",
   "name": "python",
   "nbconvert_exporter": "python",
   "pygments_lexer": "ipython3",
   "version": "3.7.6"
  }
 },
 "nbformat": 4,
 "nbformat_minor": 1
}
